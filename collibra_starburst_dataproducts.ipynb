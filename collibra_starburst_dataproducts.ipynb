{
 "cells":[
  {
   "cell_type":"markdown",
   "source":[
    "# Collibra Starburst Integration - Data Products"
   ],
   "attachments":{
    
   },
   "metadata":{
    "datalore":{
     "node_id":"Collibra Starburst Integration - Data Products",
     "type":"MD",
     "hide_input_from_viewers":false,
     "hide_output_from_viewers":false,
     "sheet_delimiter":true
    }
   }
  },
  {
   "cell_type":"code",
   "source":[
    "## STEP 1:  Install required packages\n",
    "!pip install -U -r requirements.txt"
   ],
   "execution_count":1,
   "outputs":[
    
   ],
   "metadata":{
    "datalore":{
     "node_id":"lI4dv61iUGPnq4TG88TzQw",
     "type":"CODE",
     "hide_input_from_viewers":true,
     "hide_output_from_viewers":true
    }
   }
  },
  {
   "cell_type":"code",
   "source":[
    "## STEP 2:  Import common packages, helper classes and helper functions\n",
    "import getpass\n",
    "from helper import StarburstCollibraFacade"
   ],
   "execution_count":2,
   "outputs":[
    
   ],
   "metadata":{
    "datalore":{
     "node_id":"i0RGvuNa8phnK9KfnVlvhi",
     "type":"CODE",
     "hide_input_from_viewers":true,
     "hide_output_from_viewers":true
    }
   }
  },
  {
   "cell_type":"code",
   "source":[
    "## STEP 3:  Provide Starburst environment details (URL, username, role, password)\n",
    "sep_url = input('Enter the URL for your Starburst Enterprise instance (example: https:\/\/mystarburstcluster.com):\\n')\n",
    "sep_user = input('\\n\\nEnter your username:\\n')\n",
    "sep_role = input('\\n\\nIf you are using BIAC, enter your role name (leave blank otherwise):\\n')\n",
    "sep_pwd = getpass.getpass('\\n\\nEnter your password:\\n')"
   ],
   "execution_count":3,
   "outputs":[
    
   ],
   "metadata":{
    "datalore":{
     "node_id":"13Y1GiYuj0sjKVJSJDZvt2",
     "type":"CODE",
     "hide_input_from_viewers":true,
     "hide_output_from_viewers":true
    }
   }
  },
  {
   "cell_type":"code",
   "source":[
    "## STEP 4:  Provide Collibra environment details (URL, username, password)\n",
    "collibra_url = input('Enter the URL for your Collibra Cloud instance (example: https:\/\/<domain>.collibra.com): \\n')\n",
    "collibra_user = input('\\n\\nEnter your username:\\n')\n",
    "collibra_pwd = getpass.getpass('\\n\\nEnter your password:\\n')"
   ],
   "execution_count":4,
   "outputs":[
    
   ],
   "metadata":{
    "datalore":{
     "node_id":"BfBdDgQD62sGOFfYC6iWNS",
     "type":"CODE",
     "hide_input_from_viewers":true,
     "hide_output_from_viewers":true
    }
   }
  },
  {
   "cell_type":"code",
   "source":[
    "## STEP 5:  Provide temp directory, Collibra community name and system ID\n",
    "tmp_dir = input('\\n\\nEnter tmp_dir location:\\n')\n",
    "community_input = input('\\n\\nEnter the community where the data domain and products will be loaded:\\n')\n",
    "system_id_input = input('\\n\\nEnter the system id where the database schema and metadata are linked:\\n')"
   ],
   "execution_count":5,
   "outputs":[
    
   ],
   "metadata":{
    "datalore":{
     "node_id":"1PlhzicAb8IEZQZ8HJghqq",
     "type":"CODE",
     "hide_input_from_viewers":true,
     "hide_output_from_viewers":true
    }
   }
  },
  {
   "cell_type":"code",
   "source":[
    "## STEP 6:  Import Starburst data domains and data products into Collibra\n",
    "\n",
    "## Instantiate the facade class, which was created to simplify the notebook implementation\n",
    "starburstCollibraFacade = StarburstCollibraFacade(sep_url=sep_url,\n",
    "                                                  sep_user=sep_user,\n",
    "                                                  sep_role=sep_role,\n",
    "                                                  sep_pwd = sep_pwd,\n",
    "                                                  collibra_url = collibra_url,\n",
    "                                                  collibra_user = collibra_user,\n",
    "                                                  collibra_pwd = collibra_pwd,\n",
    "                                                  tmp_dir = tmp_dir\n",
    "                                                  )\n",
    "\n",
    "## Extract all data domains from Starburst and ingest into Collibra\n",
    "print ('About to pull\/ingest all the data domains from Starburst to Collibra.')\n",
    "starburstCollibraFacade.query_and_import_data_domains(community = community_input)\n",
    "\n",
    "## Extract all 'published' data products from Starburst and ingest into Collibra\n",
    "print ('About to pull\/ingest all the data products from Starburst to Collibra.')\n",
    "starburstCollibraFacade.query_and_import_data_products(community = community_input, system_id = system_id_input)\n",
    "\n",
    "print ('Completed')"
   ],
   "execution_count":6,
   "outputs":[
    
   ],
   "metadata":{
    "datalore":{
     "node_id":"TTkEEWAtRIpXQzAcKcqgGM",
     "type":"CODE",
     "hide_input_from_viewers":true,
     "hide_output_from_viewers":true
    }
   }
  }
 ],
 "metadata":{
  "kernelspec":{
   "display_name":"Python",
   "language":"python",
   "name":"python"
  },
  "datalore":{
   "computation_mode":"REACTIVE",
   "package_manager":"pip",
   "base_environment":"default",
   "packages":[
    {
     "name":"collibra-core",
     "source":"PIP"
    },
    {
     "name":"collibra-importer",
     "source":"PIP"
    }
   ],
   "report_row_ids":[
    
   ],
   "version":3
  }
 },
 "nbformat":4,
 "nbformat_minor":4
}